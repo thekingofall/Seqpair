{
 "cells": [
  {
   "cell_type": "markdown",
   "metadata": {},
   "source": [
    "## 说明\n",
    "\n",
    "背景在D:\\我的坚果云\\项目纪事\\All-潺潺\\Expro_TCRBCR+RNAseq.pptx之中，有可能后面有变化，但是也只能在Chenxi的目录之中\n"
   ]
  },
  {
   "cell_type": "markdown",
   "metadata": {},
   "source": [
    "### Run 1\n",
    "2024-04-03 15:22\n",
    "\n",
    "\n",
    "- TCRβ 反向primer GAGGACCTGAAMAASGTGT \n",
    "- TCRα 反向primer ATATCCAGAACCCTGACCC \n",
    "- P5TA\tGGGTCAGGGTTCTGGATAT(TCRα 反向primer 反向互补）\n",
    "- P5TB\tACACSTTKTTCAGGTCCTC(TCRβ 反向primer 反向互补)\n"
   ]
  },
  {
   "cell_type": "code",
   "execution_count": null,
   "metadata": {
    "vscode": {
     "languageId": "shellscript"
    }
   },
   "outputs": [],
   "source": [
    "cd  /data5/maolp/All_Chenxi_data5/Gen1-2024TCRAB/Sample_GZ24019316-4P5-4P5 ## 数据位置"
   ]
  },
  {
   "cell_type": "code",
   "execution_count": null,
   "metadata": {
    "vscode": {
     "languageId": "shellscript"
    }
   },
   "outputs": [],
   "source": [
    " python /home/maolp/Codeman/All_InProgress_Mission/All_Chenxi_Code/20240403_TCRpair/Script/CX_TCRpair_Run1_getseq.py GZ24019316-4P5-4P5_combined_R1.fastq.gz O1.txt -s 'GATGACGTCAATGTCTCTTAT' -t 1"
   ]
  },
  {
   "cell_type": "code",
   "execution_count": null,
   "metadata": {
    "vscode": {
     "languageId": "shellscript"
    }
   },
   "outputs": [],
   "source": [
    " python /home/maolp/Codeman/All_InProgress_Mission/All_Chenxi_Code/20240403_TCRpair/Script/CX_TCRpair_Run1_getseq.py GZ24019316-4P5-4P5_combined_R1.fastq.gz O1.txt -s 'ATATCCAGAACCCTGACCC' -t 2"
   ]
  },
  {
   "cell_type": "code",
   "execution_count": null,
   "metadata": {
    "vscode": {
     "languageId": "shellscript"
    }
   },
   "outputs": [],
   "source": [
    "(TCRRNA) [maolp@localhost Sample_GZ24019316-4P5-4P5]$  python /home/maolp/Codeman/All_InProgress_Mission/All_Chenxi_Code/20240403_TCRpair/Script/CX_TCRpair_Run1_getseq2fast.py GZ24019316-4P5-4P5_combined GAGGACCTGAAMAASGTGT  2\n",
    "Total reads processed: 100000\n",
    "Forward sequence count: 3241 (3.24%)\n",
    "Reverse sequence count: 1 (0.00%)\n",
    "Complement sequence count: 0 (0.00%)\n",
    "Reverse complement sequence count: 78908 (78.91%)\n",
    "Non-matching reads count: 21434 (21.43%)"
   ]
  },
  {
   "cell_type": "code",
   "execution_count": null,
   "metadata": {
    "vscode": {
     "languageId": "shellscript"
    }
   },
   "outputs": [],
   "source": [
    "(TCRRNA) [maolp@localhost Sample_GZ24019316-4P5-4P5]$  python /home/maolp/Codeman/All_InProgress_Mission/All_Chenxi_Code/20240403_TCRpair/Script/CX_TCRpair_Run1_getseq2fast.py GZ24019316-4P5-4P5_combined ATATCCAGAACCCTGACCC   2\n",
    "Total reads processed: 100000\n",
    "Forward sequence count: 3667 (3.67%)\n",
    "Reverse sequence count: 0 (0.00%)\n",
    "Complement sequence count: 0 (0.00%)\n",
    "Reverse complement sequence count: 63317 (63.32%)\n",
    "Non-matching reads count: 36370 (36.37%)"
   ]
  },
  {
   "cell_type": "code",
   "execution_count": null,
   "metadata": {
    "vscode": {
     "languageId": "shellscript"
    }
   },
   "outputs": [],
   "source": [
    " python /home/maolp/Codeman/All_InProgress_Mission/All_Chenxi_Code/20240403_TCRpair/Script/CX_TCRpair_Run1_TCRgetseq.py GZ24019316-4P5-4P5_combined  ATATCCAGAACCCTGACCC   2 TRA"
   ]
  }
 ],
 "metadata": {
  "language_info": {
   "name": "python"
  }
 },
 "nbformat": 4,
 "nbformat_minor": 2
}
